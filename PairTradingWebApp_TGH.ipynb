{
 "cells": [
  {
   "attachments": {},
   "cell_type": "markdown",
   "metadata": {},
   "source": []
  },
  {
   "cell_type": "markdown",
   "metadata": {},
   "source": [
    "# Stock Market Prediction Web Application (Part 1)"
   ]
  },
  {
   "cell_type": "markdown",
   "metadata": {},
   "source": [
    "Hello and welcome to my first posted project!  This project is taken from a recent book by Manuel Amunategui - \"Monetizing Machine Learning\" (Apress, 2018). This case study involves a popular pair trading strategy and developing a system that will alert us to possible trading opportunites.  ___NOTE:__  This is only a 'TOY' system and is not meant to be used as an actual trading system.  The only purpose of this project is to demonstrate how to use Python to develop an application that can be implemented as a web application!_\n"
   ]
  },
  {
   "cell_type": "markdown",
   "metadata": {},
   "source": [
    "## Developing the Pair Trading Strategy"
   ]
  },
  {
   "cell_type": "markdown",
   "metadata": {},
   "source": [
    "Pairs trading is a very well developed method of trading stocks, bonds, equities, options, futures, etc.  It is based on the premise that related tradeable instruments should rise and fall in unison.  For example, if the price of ABC Airlines increases, then the price of XYZ Airlines should also increase.  However, there will be times when the prices will diverge (for any reason).  When this happens, a pair trading strategy suggests that we should sell short the higher priced instrument and buy the lower priced instrument in the hopes that the two will revert back to their historical price levels.  Having a simultaneous long/short position can also lessen market volatility effects.\n",
    "\n",
    "The downside to pairs trading is that market conditions may cause the pair to continue in their respective directions.  So it is indeed possible to lose money on both long and short sides of a pairs trade!\n",
    "\n",
    "For this project, we will compare individual stocks that make up the [Dow Jones Industrial Average (Dow Jones Industrial Average - Wikipedia](https://en.wikipedia.org/wiki/Dow_Jones_Industrial_Average) against the composite DJIA Index.  The DJIA is a price weighted stock index that is based on 30 major stocks contained in the New York Stock Exchange (NYSE) and NASDAQ exchanges.\n",
    "\n",
    "Using a 90 day rolling window, we will evaluate the \"strongest\" and \"weakest\" stock.  The return of the strongest stock will be above the DJIA average return and thus will be considered for a short sale.  The return of the weakest stock will be below the DJIA average return and will be considered for being bought."
   ]
  },
  {
   "cell_type": "markdown",
   "metadata": {},
   "source": [
    "## Obtaining The Data"
   ]
  },
  {
   "cell_type": "markdown",
   "metadata": {},
   "source": [
    "We will get data from the [Quandl](https://Quandl.com) website.  Quandl is is an excellent source for financial data, and they have free and paid options that should suit almost everyone.  One of the best things about Quandl is that they have a great [RESTful API](https://github.com/quandl/quandl-python) for accessing their data.  \n",
    "\n",
    "It is easy to download the Quandl Python package using \n",
    "\n",
    "```\n",
    "pip install quandl\n",
    "import quandl\n",
    "``` \n",
    "\n",
    "or you might need to use: \n",
    "```\n",
    "pip3 install\n",
    "import quandl\n",
    "```\n",
    "\n",
    "Once you have installed the Quandl Python package you will need to obtain an API so that you can authenticate your account and download data.  After registering on the Quandl site you can set the API key with the following command:\n",
    "\n",
    "```\n",
    "quandl.ApiConfig.api_key = \"YOURAPIKEY\"\n",
    "```\n",
    "\n",
    "Now we are ready to obtain our DJIA data using the Quandl Python package!\n",
    "\n",
    "We will download the DJIA data, which is the weighted average Index.  Additionally, we will download each component stock that comprises the DJIA. We will create a table that has the ticker symbol, the date, and the adjusted closing price.  We have selected a one year time frame for this example (31 Dec 2016 to 31 Dec 2017) which can be modified as necessary.\n",
    "\n",
    "Because we will combine two data sources we must make sure that the data types for each data source are the same.  The data from the DJI table is a 'string' type, while the data from the Quandl data is mixed with 'string', 'object', and 'float' types.  For compatability with analysis and calculations we will make sure that we have data in 'datetime' for the date column, 'string' for the ticker column, and 'float' for the adjusted_close column."
   ]
  },
  {
   "cell_type": "code",
   "execution_count": 252,
   "metadata": {},
   "outputs": [
    {
     "data": {
      "text/html": [
       "<div>\n",
       "<style scoped>\n",
       "    .dataframe tbody tr th:only-of-type {\n",
       "        vertical-align: middle;\n",
       "    }\n",
       "\n",
       "    .dataframe tbody tr th {\n",
       "        vertical-align: top;\n",
       "    }\n",
       "\n",
       "    .dataframe thead th {\n",
       "        text-align: right;\n",
       "    }\n",
       "</style>\n",
       "<table border=\"1\" class=\"dataframe\">\n",
       "  <thead>\n",
       "    <tr style=\"text-align: right;\">\n",
       "      <th></th>\n",
       "      <th>ticker</th>\n",
       "      <th>date</th>\n",
       "      <th>adj_close</th>\n",
       "    </tr>\n",
       "  </thead>\n",
       "  <tbody>\n",
       "    <tr>\n",
       "      <th>0</th>\n",
       "      <td>DJI</td>\n",
       "      <td>2017-12-29</td>\n",
       "      <td>24719.0</td>\n",
       "    </tr>\n",
       "    <tr>\n",
       "      <th>1</th>\n",
       "      <td>DJI</td>\n",
       "      <td>2017-12-28</td>\n",
       "      <td>24838.0</td>\n",
       "    </tr>\n",
       "    <tr>\n",
       "      <th>2</th>\n",
       "      <td>DJI</td>\n",
       "      <td>2017-12-27</td>\n",
       "      <td>24774.0</td>\n",
       "    </tr>\n",
       "    <tr>\n",
       "      <th>3</th>\n",
       "      <td>DJI</td>\n",
       "      <td>2017-12-26</td>\n",
       "      <td>24746.0</td>\n",
       "    </tr>\n",
       "    <tr>\n",
       "      <th>4</th>\n",
       "      <td>DJI</td>\n",
       "      <td>2017-12-22</td>\n",
       "      <td>24754.0</td>\n",
       "    </tr>\n",
       "  </tbody>\n",
       "</table>\n",
       "</div>"
      ],
      "text/plain": [
       "  ticker       date  adj_close\n",
       "0    DJI 2017-12-29    24719.0\n",
       "1    DJI 2017-12-28    24838.0\n",
       "2    DJI 2017-12-27    24774.0\n",
       "3    DJI 2017-12-26    24746.0\n",
       "4    DJI 2017-12-22    24754.0"
      ]
     },
     "execution_count": 252,
     "metadata": {},
     "output_type": "execute_result"
    }
   ],
   "source": [
    "import quandl\n",
    "import pandas as pd\n",
    "import os\n",
    "import time\n",
    "quandl.ApiConfig.api_key = 'YOUR-API-KEY'\n",
    "\n",
    "# get the data for the DJIA Index from the file folder and view the first few rows\n",
    "DJI = pd.read_csv('/DJI.csv', header=None)\n",
    "DJI = DJI.iloc[:, [0,5]]\n",
    "\n",
    "DJI.rename(columns={2: 'ticker', 0: 'date', 5: 'adj_close'}, inplace=True)\n",
    "DJI['ticker'] = 'DJI'\n",
    "DJI = DJI[['ticker', 'date', 'adj_close']]\n",
    "\n",
    "# Make sure columns have the correct data type\n",
    "DJI['ticker'] = DJI['ticker'].astype(str)\n",
    "DJI['date'] = pd.to_datetime(DJI['date'])\n",
    "DJI['adj_close'] = DJI['adj_close'].astype(float)\n",
    "\n",
    "DJI.head()\n",
    "\n"
   ]
  },
  {
   "cell_type": "code",
   "execution_count": 254,
   "metadata": {},
   "outputs": [
    {
     "data": {
      "text/html": [
       "<div>\n",
       "<style scoped>\n",
       "    .dataframe tbody tr th:only-of-type {\n",
       "        vertical-align: middle;\n",
       "    }\n",
       "\n",
       "    .dataframe tbody tr th {\n",
       "        vertical-align: top;\n",
       "    }\n",
       "\n",
       "    .dataframe thead th {\n",
       "        text-align: right;\n",
       "    }\n",
       "</style>\n",
       "<table border=\"1\" class=\"dataframe\">\n",
       "  <thead>\n",
       "    <tr style=\"text-align: right;\">\n",
       "      <th></th>\n",
       "      <th>ticker</th>\n",
       "      <th>date</th>\n",
       "      <th>adj_close</th>\n",
       "    </tr>\n",
       "    <tr>\n",
       "      <th>None</th>\n",
       "      <th></th>\n",
       "      <th></th>\n",
       "      <th></th>\n",
       "    </tr>\n",
       "  </thead>\n",
       "  <tbody>\n",
       "    <tr>\n",
       "      <th>0</th>\n",
       "      <td>XOM</td>\n",
       "      <td>2017-12-29</td>\n",
       "      <td>83.64</td>\n",
       "    </tr>\n",
       "    <tr>\n",
       "      <th>1</th>\n",
       "      <td>XOM</td>\n",
       "      <td>2017-12-28</td>\n",
       "      <td>84.02</td>\n",
       "    </tr>\n",
       "    <tr>\n",
       "      <th>2</th>\n",
       "      <td>XOM</td>\n",
       "      <td>2017-12-27</td>\n",
       "      <td>83.90</td>\n",
       "    </tr>\n",
       "    <tr>\n",
       "      <th>3</th>\n",
       "      <td>XOM</td>\n",
       "      <td>2017-12-26</td>\n",
       "      <td>83.98</td>\n",
       "    </tr>\n",
       "    <tr>\n",
       "      <th>4</th>\n",
       "      <td>XOM</td>\n",
       "      <td>2017-12-22</td>\n",
       "      <td>83.97</td>\n",
       "    </tr>\n",
       "  </tbody>\n",
       "</table>\n",
       "</div>"
      ],
      "text/plain": [
       "     ticker       date  adj_close\n",
       "None                             \n",
       "0       XOM 2017-12-29      83.64\n",
       "1       XOM 2017-12-28      84.02\n",
       "2       XOM 2017-12-27      83.90\n",
       "3       XOM 2017-12-26      83.98\n",
       "4       XOM 2017-12-22      83.97"
      ]
     },
     "execution_count": 254,
     "metadata": {},
     "output_type": "execute_result"
    }
   ],
   "source": [
    "# get the table for daily stock prices and,\n",
    "# filter the table for selected tickers, columns within a time range\n",
    "# set paginate to True because Quandl limits tables API to 10,000 rows per call\n",
    "              \n",
    "\n",
    "data = quandl.get_table('WIKI/PRICES', ticker = ['AXP', 'BA', 'CAT', 'CSCO', 'MMM', 'CVX',\n",
    "                                                 'AAPL', 'MSFT', 'WMT','KO', 'DIS','DOW',\n",
    "                                                 'XOM', 'GS', 'HD', 'IBM', 'INTC', 'JNJ',\n",
    "                                                 'JPM','MCD', 'MRK', 'NKE', 'PFE', 'PG',\n",
    "                                                 'TRV', 'UTX', 'UNH', 'VZ', 'V', 'WBA'],\n",
    "                        qopts = { 'columns': ['ticker', 'date', 'adj_close'] }, \n",
    "                        date = { 'gte': '2016-12-31', 'lte': '2017-12-31' }, \n",
    "                        paginate=True)\n",
    "\n",
    "# Make sure columns have the correct data type\n",
    "data['ticker'] = data['ticker'].astype(str)\n",
    "data['date'] = pd.to_datetime(data['date'])\n",
    "data['adj_close'] = data['adj_close'].astype(float)\n",
    "\n",
    "data.head()\n"
   ]
  },
  {
   "cell_type": "code",
   "execution_count": 255,
   "metadata": {},
   "outputs": [
    {
     "data": {
      "text/html": [
       "<div>\n",
       "<style scoped>\n",
       "    .dataframe tbody tr th:only-of-type {\n",
       "        vertical-align: middle;\n",
       "    }\n",
       "\n",
       "    .dataframe tbody tr th {\n",
       "        vertical-align: top;\n",
       "    }\n",
       "\n",
       "    .dataframe thead th {\n",
       "        text-align: right;\n",
       "    }\n",
       "</style>\n",
       "<table border=\"1\" class=\"dataframe\">\n",
       "  <thead>\n",
       "    <tr style=\"text-align: right;\">\n",
       "      <th>ticker</th>\n",
       "      <th>AAPL</th>\n",
       "      <th>AXP</th>\n",
       "      <th>BA</th>\n",
       "      <th>CAT</th>\n",
       "      <th>CSCO</th>\n",
       "      <th>CVX</th>\n",
       "      <th>DIS</th>\n",
       "      <th>DJI</th>\n",
       "      <th>DOW</th>\n",
       "      <th>GS</th>\n",
       "      <th>...</th>\n",
       "      <th>PFE</th>\n",
       "      <th>PG</th>\n",
       "      <th>TRV</th>\n",
       "      <th>UNH</th>\n",
       "      <th>UTX</th>\n",
       "      <th>V</th>\n",
       "      <th>VZ</th>\n",
       "      <th>WBA</th>\n",
       "      <th>WMT</th>\n",
       "      <th>XOM</th>\n",
       "    </tr>\n",
       "    <tr>\n",
       "      <th>date</th>\n",
       "      <th></th>\n",
       "      <th></th>\n",
       "      <th></th>\n",
       "      <th></th>\n",
       "      <th></th>\n",
       "      <th></th>\n",
       "      <th></th>\n",
       "      <th></th>\n",
       "      <th></th>\n",
       "      <th></th>\n",
       "      <th></th>\n",
       "      <th></th>\n",
       "      <th></th>\n",
       "      <th></th>\n",
       "      <th></th>\n",
       "      <th></th>\n",
       "      <th></th>\n",
       "      <th></th>\n",
       "      <th></th>\n",
       "      <th></th>\n",
       "      <th></th>\n",
       "    </tr>\n",
       "  </thead>\n",
       "  <tbody>\n",
       "    <tr>\n",
       "      <th>2017-01-03</th>\n",
       "      <td>114.715378</td>\n",
       "      <td>74.162246</td>\n",
       "      <td>152.668443</td>\n",
       "      <td>91.258087</td>\n",
       "      <td>29.484966</td>\n",
       "      <td>114.381567</td>\n",
       "      <td>105.285393</td>\n",
       "      <td>19882.0</td>\n",
       "      <td>56.386279</td>\n",
       "      <td>239.298230</td>\n",
       "      <td>...</td>\n",
       "      <td>31.756236</td>\n",
       "      <td>81.645971</td>\n",
       "      <td>120.235551</td>\n",
       "      <td>159.581286</td>\n",
       "      <td>108.929230</td>\n",
       "      <td>79.081715</td>\n",
       "      <td>53.359309</td>\n",
       "      <td>81.821163</td>\n",
       "      <td>67.291215</td>\n",
       "      <td>87.567241</td>\n",
       "    </tr>\n",
       "    <tr>\n",
       "      <th>2017-01-04</th>\n",
       "      <td>114.586983</td>\n",
       "      <td>75.372857</td>\n",
       "      <td>154.273227</td>\n",
       "      <td>90.850294</td>\n",
       "      <td>29.311184</td>\n",
       "      <td>114.352450</td>\n",
       "      <td>106.635206</td>\n",
       "      <td>19942.0</td>\n",
       "      <td>56.836586</td>\n",
       "      <td>240.843560</td>\n",
       "      <td>...</td>\n",
       "      <td>32.035306</td>\n",
       "      <td>81.936871</td>\n",
       "      <td>119.589123</td>\n",
       "      <td>160.035961</td>\n",
       "      <td>108.998029</td>\n",
       "      <td>79.728295</td>\n",
       "      <td>53.300650</td>\n",
       "      <td>81.840888</td>\n",
       "      <td>67.683241</td>\n",
       "      <td>86.603799</td>\n",
       "    </tr>\n",
       "    <tr>\n",
       "      <th>2017-01-05</th>\n",
       "      <td>115.169696</td>\n",
       "      <td>74.443792</td>\n",
       "      <td>154.360760</td>\n",
       "      <td>90.296862</td>\n",
       "      <td>29.379349</td>\n",
       "      <td>113.857459</td>\n",
       "      <td>106.575655</td>\n",
       "      <td>19899.0</td>\n",
       "      <td>56.582064</td>\n",
       "      <td>239.050581</td>\n",
       "      <td>...</td>\n",
       "      <td>32.343245</td>\n",
       "      <td>82.479884</td>\n",
       "      <td>117.679675</td>\n",
       "      <td>160.302836</td>\n",
       "      <td>109.440312</td>\n",
       "      <td>80.663349</td>\n",
       "      <td>53.417967</td>\n",
       "      <td>81.890202</td>\n",
       "      <td>67.830251</td>\n",
       "      <td>85.312787</td>\n",
       "    </tr>\n",
       "    <tr>\n",
       "      <th>2017-01-06</th>\n",
       "      <td>116.453639</td>\n",
       "      <td>74.592047</td>\n",
       "      <td>154.740073</td>\n",
       "      <td>90.335699</td>\n",
       "      <td>29.437777</td>\n",
       "      <td>113.401292</td>\n",
       "      <td>108.163670</td>\n",
       "      <td>19964.0</td>\n",
       "      <td>56.229650</td>\n",
       "      <td>242.596914</td>\n",
       "      <td>...</td>\n",
       "      <td>32.218145</td>\n",
       "      <td>82.450794</td>\n",
       "      <td>117.620005</td>\n",
       "      <td>160.530174</td>\n",
       "      <td>110.619731</td>\n",
       "      <td>81.777456</td>\n",
       "      <td>52.632926</td>\n",
       "      <td>81.959241</td>\n",
       "      <td>66.899190</td>\n",
       "      <td>85.264615</td>\n",
       "    </tr>\n",
       "    <tr>\n",
       "      <th>2017-01-09</th>\n",
       "      <td>117.520300</td>\n",
       "      <td>74.977510</td>\n",
       "      <td>153.981448</td>\n",
       "      <td>89.685174</td>\n",
       "      <td>29.389087</td>\n",
       "      <td>112.430723</td>\n",
       "      <td>107.548315</td>\n",
       "      <td>19887.0</td>\n",
       "      <td>56.572275</td>\n",
       "      <td>240.605817</td>\n",
       "      <td>...</td>\n",
       "      <td>32.208521</td>\n",
       "      <td>81.839904</td>\n",
       "      <td>116.675226</td>\n",
       "      <td>160.075498</td>\n",
       "      <td>109.587739</td>\n",
       "      <td>81.319877</td>\n",
       "      <td>52.059755</td>\n",
       "      <td>81.416791</td>\n",
       "      <td>67.340219</td>\n",
       "      <td>83.857990</td>\n",
       "    </tr>\n",
       "  </tbody>\n",
       "</table>\n",
       "<p>5 rows × 31 columns</p>\n",
       "</div>"
      ],
      "text/plain": [
       "ticker            AAPL        AXP          BA        CAT       CSCO  \\\n",
       "date                                                                  \n",
       "2017-01-03  114.715378  74.162246  152.668443  91.258087  29.484966   \n",
       "2017-01-04  114.586983  75.372857  154.273227  90.850294  29.311184   \n",
       "2017-01-05  115.169696  74.443792  154.360760  90.296862  29.379349   \n",
       "2017-01-06  116.453639  74.592047  154.740073  90.335699  29.437777   \n",
       "2017-01-09  117.520300  74.977510  153.981448  89.685174  29.389087   \n",
       "\n",
       "ticker             CVX         DIS      DJI        DOW          GS    ...      \\\n",
       "date                                                                  ...       \n",
       "2017-01-03  114.381567  105.285393  19882.0  56.386279  239.298230    ...       \n",
       "2017-01-04  114.352450  106.635206  19942.0  56.836586  240.843560    ...       \n",
       "2017-01-05  113.857459  106.575655  19899.0  56.582064  239.050581    ...       \n",
       "2017-01-06  113.401292  108.163670  19964.0  56.229650  242.596914    ...       \n",
       "2017-01-09  112.430723  107.548315  19887.0  56.572275  240.605817    ...       \n",
       "\n",
       "ticker            PFE         PG         TRV         UNH         UTX  \\\n",
       "date                                                                   \n",
       "2017-01-03  31.756236  81.645971  120.235551  159.581286  108.929230   \n",
       "2017-01-04  32.035306  81.936871  119.589123  160.035961  108.998029   \n",
       "2017-01-05  32.343245  82.479884  117.679675  160.302836  109.440312   \n",
       "2017-01-06  32.218145  82.450794  117.620005  160.530174  110.619731   \n",
       "2017-01-09  32.208521  81.839904  116.675226  160.075498  109.587739   \n",
       "\n",
       "ticker              V         VZ        WBA        WMT        XOM  \n",
       "date                                                               \n",
       "2017-01-03  79.081715  53.359309  81.821163  67.291215  87.567241  \n",
       "2017-01-04  79.728295  53.300650  81.840888  67.683241  86.603799  \n",
       "2017-01-05  80.663349  53.417967  81.890202  67.830251  85.312787  \n",
       "2017-01-06  81.777456  52.632926  81.959241  66.899190  85.264615  \n",
       "2017-01-09  81.319877  52.059755  81.416791  67.340219  83.857990  \n",
       "\n",
       "[5 rows x 31 columns]"
      ]
     },
     "execution_count": 255,
     "metadata": {},
     "output_type": "execute_result"
    }
   ],
   "source": [
    "\n",
    "\n",
    "# Combine DJ Index with DJ Component stocks\n",
    "data = data.append(DJI)\n",
    "\n",
    "# create a new dataframe with 'date' column as index\n",
    "new = data.set_index('date')\n",
    "\n",
    "# use pandas pivot function to sort adj_close by tickers\n",
    "data = new.pivot(columns='ticker')\n",
    "\n",
    "data.columns = data.columns.droplevel()\n",
    "\n",
    "data.head()\n",
    "\n"
   ]
  },
  {
   "cell_type": "code",
   "execution_count": 258,
   "metadata": {},
   "outputs": [
    {
     "data": {
      "text/html": [
       "<div>\n",
       "<style scoped>\n",
       "    .dataframe tbody tr th:only-of-type {\n",
       "        vertical-align: middle;\n",
       "    }\n",
       "\n",
       "    .dataframe tbody tr th {\n",
       "        vertical-align: top;\n",
       "    }\n",
       "\n",
       "    .dataframe thead th {\n",
       "        text-align: right;\n",
       "    }\n",
       "</style>\n",
       "<table border=\"1\" class=\"dataframe\">\n",
       "  <thead>\n",
       "    <tr style=\"text-align: right;\">\n",
       "      <th></th>\n",
       "      <th>PercentChange</th>\n",
       "      <th>PercentChangeCumSum</th>\n",
       "      <th>Price</th>\n",
       "    </tr>\n",
       "    <tr>\n",
       "      <th>date</th>\n",
       "      <th></th>\n",
       "      <th></th>\n",
       "      <th></th>\n",
       "    </tr>\n",
       "  </thead>\n",
       "  <tbody>\n",
       "    <tr>\n",
       "      <th>2017-01-03</th>\n",
       "      <td>NaN</td>\n",
       "      <td>114.715378</td>\n",
       "      <td>114.715378</td>\n",
       "    </tr>\n",
       "    <tr>\n",
       "      <th>2017-01-04</th>\n",
       "      <td>-0.001119</td>\n",
       "      <td>229.302361</td>\n",
       "      <td>114.586983</td>\n",
       "    </tr>\n",
       "    <tr>\n",
       "      <th>2017-01-05</th>\n",
       "      <td>0.005085</td>\n",
       "      <td>344.472057</td>\n",
       "      <td>115.169696</td>\n",
       "    </tr>\n",
       "    <tr>\n",
       "      <th>2017-01-06</th>\n",
       "      <td>0.011148</td>\n",
       "      <td>460.925697</td>\n",
       "      <td>116.453639</td>\n",
       "    </tr>\n",
       "    <tr>\n",
       "      <th>2017-01-09</th>\n",
       "      <td>0.009160</td>\n",
       "      <td>578.445996</td>\n",
       "      <td>117.520300</td>\n",
       "    </tr>\n",
       "  </tbody>\n",
       "</table>\n",
       "</div>"
      ],
      "text/plain": [
       "            PercentChange  PercentChangeCumSum       Price\n",
       "date                                                      \n",
       "2017-01-03            NaN           114.715378  114.715378\n",
       "2017-01-04      -0.001119           229.302361  114.586983\n",
       "2017-01-05       0.005085           344.472057  115.169696\n",
       "2017-01-06       0.011148           460.925697  116.453639\n",
       "2017-01-09       0.009160           578.445996  117.520300"
      ]
     },
     "execution_count": 258,
     "metadata": {},
     "output_type": "execute_result"
    }
   ],
   "source": [
    "pd.DataFrame({\"PercentChange\": data['AAPL'].pct_change(), \"PercentChangeCumSum\": data['AAPL'].cumsum(), \"Price\": data['AAPL']}).head()"
   ]
  },
  {
   "cell_type": "code",
   "execution_count": 259,
   "metadata": {},
   "outputs": [],
   "source": [
    "# Use last 90 days of data\n",
    "data = data.tail(90)"
   ]
  },
  {
   "cell_type": "code",
   "execution_count": 262,
   "metadata": {},
   "outputs": [
    {
     "name": "stdout",
     "output_type": "stream",
     "text": [
      "{'AAPL': -0.06447390723706314, 'AXP': 0.03269316694771918, 'BA': 0.0977434777786893, 'CAT': 0.20247803307341627, 'CSCO': 0.10094694926221315, 'CVX': 0.03828914053468857, 'DIS': -0.06264213286508513, 'DOW': -0.09383434504066235, 'GS': 0.017622517665278448, 'HD': 0.12297109022689945, 'IBM': -0.033635622484683325, 'INTC': 0.1803519577543673, 'JNJ': -0.06007558003530711, 'JPM': 0.038229878255500394, 'KO': -0.10869254705059705, 'MCD': -0.03644045985155231, 'MMM': 0.03931701357877526, 'MRK': -0.2119677362799952, 'MSFT': 0.046773207997522936, 'NKE': 0.03720090015629296, 'PFE': -0.028446409975546927, 'PG': -0.12207722383113784, 'TRV': -0.05008110325917747, 'UNH': 0.009642117499063407, 'UTX': -0.034623676001049986, 'V': -0.022500402890887283, 'VZ': -0.02853927744775575, 'WBA': -0.22967411581115615, 'WMT': 0.0945146911358491, 'XOM': -0.03674116772858749}\n"
     ]
    }
   ],
   "source": [
    "# Loop through each symbol and compare last percentage change CumSum against DJI and store in dictionary for comparison\n",
    "stock1 = 'DJI'\n",
    "last_distance_from_index = {}\n",
    "temp_series1 = data[stock1].pct_change().cumsum()\n",
    "\n",
    "for stock2 in list(data):\n",
    "    if(stock2 != stock1):\n",
    "        temp_series2 = data[stock2].pct_change().cumsum()\n",
    "        \n",
    "        # subtract the stock-index, if stock is strong compared to index it will be a positive value\n",
    "        diff = list(temp_series2 - temp_series1)\n",
    "        last_distance_from_index[stock2] = diff[-1]\n",
    "\n",
    "print(last_distance_from_index)\n",
    "        \n",
    "        \n",
    "        "
   ]
  },
  {
   "cell_type": "code",
   "execution_count": 277,
   "metadata": {},
   "outputs": [
    {
     "name": "stdout",
     "output_type": "stream",
     "text": [
      "Weakest symbol: WBA\n",
      "Strongest symbol: CAT\n"
     ]
    },
    {
     "data": {
      "text/plain": [
       "<matplotlib.axes._subplots.AxesSubplot at 0x1187826a0>"
      ]
     },
     "execution_count": 277,
     "metadata": {},
     "output_type": "execute_result"
    },
    {
     "data": {
      "image/png": "[encoded data removed]",
      "text/plain": [
       "<Figure size 432x288 with 1 Axes>"
      ]
     },
     "metadata": {},
     "output_type": "display_data"
    }
   ],
   "source": [
    "# Use Lamba Functions to find weakest and strongest values in the last_distance_from_index dictionary\n",
    "\n",
    "# Find weakest symbol\n",
    "weakest_symbol = min(last_distance_from_index.items(), key = lambda x: x[1])\n",
    "\n",
    "print('Weakest symbol: %s' % weakest_symbol[0])\n",
    "data['WBA'].pct_change().cumsum().plot()\n",
    "#plt.show()\n",
    "\n",
    "# Now find the strongest symbol\n",
    "strongest_symbol = max(last_distance_from_index.items(), key = lambda x: x[1])\n",
    "\n",
    "print('Strongest symbol: %s' % strongest_symbol[0])\n",
    "data['CAT'].pct_change().cumsum().plot()"
   ]
  },
  {
   "cell_type": "code",
   "execution_count": 278,
   "metadata": {},
   "outputs": [
    {
     "name": "stdout",
     "output_type": "stream",
     "text": [
      "Strongest symbol is CAT, last price: $157.580000\n",
      "Weakest symbol is WBA, last price: $72.620000\n"
     ]
    }
   ],
   "source": [
    "# For dollar-neutral trades, set a budget value and total dollar amount willing to trade\n",
    "trading_budget = 10000\n",
    "\n",
    "# Get the last trading price for both stock recommendations\n",
    "short_symbol = strongest_symbol[0]\n",
    "short_last_close = data[strongest_symbol[0]][-1]\n",
    "print('Strongest symbol is %s, last price: $%f' % (strongest_symbol[0], short_last_close))\n",
    "\n",
    "long_symbol = weakest_symbol[0]\n",
    "long_last_close = data[weakest_symbol[0]][-1]\n",
    "print('Weakest symbol is %s, last price: $%f' % (weakest_symbol[0], long_last_close))\n"
   ]
  },
  {
   "cell_type": "code",
   "execution_count": 280,
   "metadata": {},
   "outputs": [
    {
     "name": "stdout",
     "output_type": "stream",
     "text": [
      "For CAT, at $157.580000, you need to short 31 shares\n"
     ]
    }
   ],
   "source": [
    "# Find number of shares to short\n",
    "print('For %s, at $%f, you need to short %i shares' % \n",
    "      (short_symbol, short_last_close, (trading_budget * 0.5) / short_last_close))"
   ]
  },
  {
   "cell_type": "code",
   "execution_count": 281,
   "metadata": {},
   "outputs": [
    {
     "name": "stdout",
     "output_type": "stream",
     "text": [
      "For WBA, at $72.620000, you need to buy 68 shares\n"
     ]
    }
   ],
   "source": [
    "# Find number of shares to buy (go long)\n",
    "print('For %s, at $%f, you need to buy %i shares' % \n",
    "      (long_symbol, long_last_close, (trading_budget * 0.5) / long_last_close))"
   ]
  },
  {
   "cell_type": "markdown",
   "metadata": {},
   "source": [
    "## Next Steps"
   ]
  },
  {
   "cell_type": "markdown",
   "metadata": {},
   "source": [
    "This concludes the first part of this project.  Next we will build a Python Flask web application that will use our recommendation system to suggest trades to a user.  The user will supply a total allowable trading budget and the application will return the number of shares to buy and sell for a dollar neutral system.\n",
    "\n",
    "The first part of this project has been very helpful.  One of the things that I have liked is using the Jupyter Notebook.  Using the notebook has shown me the importance of planning an outline of the application that you want to develope.  It is easy to write out what you want to do and then fill in code in chunks that are small as needed.  I hope to expand on this idea in future projects.\n",
    "\n",
    "The Jupyter Notebook for this project will be posted on my github page.  Any input or suggestions for improvements are always greatly appreciated.\n",
    "\n",
    "See you soon!"
   ]
  }
 ],
 "metadata": {
  "kernelspec": {
   "display_name": "Python 3",
   "language": "python",
   "name": "python3"
  },
  "language_info": {
   "codemirror_mode": {
    "name": "ipython",
    "version": 3
   },
   "file_extension": ".py",
   "mimetype": "text/x-python",
   "name": "python",
   "nbconvert_exporter": "python",
   "pygments_lexer": "ipython3",
   "version": "3.6.5"
  }
 },
 "nbformat": 4,
 "nbformat_minor": 2
}
